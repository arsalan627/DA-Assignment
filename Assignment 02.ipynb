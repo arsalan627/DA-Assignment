{
 "cells": [
  {
   "cell_type": "markdown",
   "id": "8bc21af4-29ff-4b55-9e52-06378cd02226",
   "metadata": {},
   "source": [
    "### Question 01"
   ]
  },
  {
   "cell_type": "code",
   "execution_count": 24,
   "id": "5883e62f-70d1-4db8-8b70-10768a8c7bd8",
   "metadata": {},
   "outputs": [
    {
     "data": {
      "text/plain": [
       "'hello_python_world'"
      ]
     },
     "execution_count": 24,
     "metadata": {},
     "output_type": "execute_result"
    }
   ],
   "source": [
    "#replace\n",
    "text = 'hello python world'\n",
    "text.replace(' ','_')"
   ]
  },
  {
   "cell_type": "code",
   "execution_count": 25,
   "id": "3bbfd836-ba90-4108-8f15-1d0724eb2245",
   "metadata": {},
   "outputs": [
    {
     "data": {
      "text/plain": [
       "['hello', 'python', 'world']"
      ]
     },
     "execution_count": 25,
     "metadata": {},
     "output_type": "execute_result"
    }
   ],
   "source": [
    "#split\n",
    "text.split()"
   ]
  },
  {
   "cell_type": "code",
   "execution_count": 26,
   "id": "6269d1e7-12eb-4245-b3d3-eb2301ad343f",
   "metadata": {},
   "outputs": [
    {
     "name": "stdout",
     "output_type": "stream",
     "text": [
      "hello-python-world\n"
     ]
    }
   ],
   "source": [
    "#join\n",
    "text1 = ['hello', 'python', 'world']\n",
    "text2 = '-'.join(text1)\n",
    "print(text2)"
   ]
  },
  {
   "cell_type": "markdown",
   "id": "777e52c3-8cc4-4c23-b8a7-6c52a8a7b5e7",
   "metadata": {},
   "source": [
    "### Question 02"
   ]
  },
  {
   "cell_type": "code",
   "execution_count": 29,
   "id": "f9321b67-cb77-41c8-a296-33afcb4e19cb",
   "metadata": {},
   "outputs": [
    {
     "name": "stdout",
     "output_type": "stream",
     "text": [
      "True\n"
     ]
    }
   ],
   "source": [
    "word = 'javascript'\n",
    "print(len(word) > 5)"
   ]
  },
  {
   "cell_type": "markdown",
   "id": "8fa47c5b-0c03-4987-8aa5-cff7ae98e40c",
   "metadata": {},
   "source": [
    "### Question 03"
   ]
  },
  {
   "cell_type": "code",
   "execution_count": 30,
   "id": "5a0c81e4-7517-417f-a9ea-8523d49afec0",
   "metadata": {},
   "outputs": [
    {
     "data": {
      "text/plain": [
       "True"
      ]
     },
     "execution_count": 30,
     "metadata": {},
     "output_type": "execute_result"
    }
   ],
   "source": [
    "num2 = 12\n",
    "(num2 % 2 == 0) and (num2 > 10)"
   ]
  },
  {
   "cell_type": "markdown",
   "id": "c93d2f44-1c4a-4a18-bd26-c53baa2a4f77",
   "metadata": {},
   "source": [
    "### Question 04"
   ]
  },
  {
   "cell_type": "code",
   "execution_count": 32,
   "id": "5ed4a97f-d110-4203-8259-da3714fffec2",
   "metadata": {},
   "outputs": [
    {
     "data": {
      "text/plain": [
       "False"
      ]
     },
     "execution_count": 32,
     "metadata": {},
     "output_type": "execute_result"
    }
   ],
   "source": [
    "num3 = 3\n",
    "num3 < 5 and num3 > 20"
   ]
  },
  {
   "cell_type": "markdown",
   "id": "f67933ec-e6ca-4d7f-b970-3e74b19ed963",
   "metadata": {},
   "source": [
    "### Question 05"
   ]
  },
  {
   "cell_type": "code",
   "execution_count": 41,
   "id": "02f81411-fc25-474e-88c1-3d21999d46d3",
   "metadata": {},
   "outputs": [
    {
     "data": {
      "text/plain": [
       "True"
      ]
     },
     "execution_count": 41,
     "metadata": {},
     "output_type": "execute_result"
    }
   ],
   "source": [
    "age = 25\n",
    "has_id = True\n",
    "18 <= age <= 65 and has_id"
   ]
  },
  {
   "cell_type": "markdown",
   "id": "ae7b1de8-8e59-4406-a3fb-a67d1b13ca77",
   "metadata": {},
   "source": [
    "### Question 06"
   ]
  },
  {
   "cell_type": "code",
   "execution_count": 2,
   "id": "c91bc235-4ab1-43bd-bbd3-a5300384c35e",
   "metadata": {},
   "outputs": [
    {
     "data": {
      "text/plain": [
       "True"
      ]
     },
     "execution_count": 2,
     "metadata": {},
     "output_type": "execute_result"
    }
   ],
   "source": [
    "url = \"https://www.example.com\"\n",
    "url.startswith('http://') or url.startswith('https://')"
   ]
  },
  {
   "cell_type": "markdown",
   "id": "527b7339-3867-4e9f-bc44-f4d437929f75",
   "metadata": {},
   "source": [
    "### Question 07"
   ]
  },
  {
   "cell_type": "code",
   "execution_count": 49,
   "id": "7839b257-5f79-4817-b4b8-4b9430504d8a",
   "metadata": {},
   "outputs": [
    {
     "name": "stdout",
     "output_type": "stream",
     "text": [
      "90.0\n"
     ]
    }
   ],
   "source": [
    "price = 100\n",
    "discount = 100 * 0.10\n",
    "\n",
    "price -= discount\n",
    "print(price)"
   ]
  },
  {
   "cell_type": "markdown",
   "id": "c505380c-4e72-4df9-845f-2debe9c9a2e5",
   "metadata": {},
   "source": [
    "### Question 08"
   ]
  },
  {
   "cell_type": "code",
   "execution_count": 53,
   "id": "d4ea6cf8-8514-4a26-8deb-1187c71c3445",
   "metadata": {},
   "outputs": [
    {
     "data": {
      "text/plain": [
       "False"
      ]
     },
     "execution_count": 53,
     "metadata": {},
     "output_type": "execute_result"
    }
   ],
   "source": [
    "premium_customers = [\"alice@example.com\", \"charlie@example.com\", \"bob@example.com\"]\n",
    "basic_customers = [\"alex@example.com\", \"david@example.com\", \"chloe@example.com\"]\n",
    "\n",
    "email = 'alice@example.com'\n",
    "email in premium_customers and email in basic_customers"
   ]
  },
  {
   "cell_type": "markdown",
   "id": "38711c50-baff-4511-b59d-deb24f2034f6",
   "metadata": {},
   "source": [
    "### Question 09"
   ]
  },
  {
   "cell_type": "code",
   "execution_count": 25,
   "id": "40e8ef98-8173-4932-bcf2-f394523e6042",
   "metadata": {},
   "outputs": [
    {
     "name": "stdin",
     "output_type": "stream",
     "text": [
      "enter your password PAKISTAN\n"
     ]
    },
    {
     "data": {
      "text/plain": [
       "True"
      ]
     },
     "execution_count": 25,
     "metadata": {},
     "output_type": "execute_result"
    }
   ],
   "source": [
    "#unable to do password authentication in single code because if and char function has not be teach in the class yet.\n",
    "\n",
    "password = input('enter your password')\n",
    "password.isupper()"
   ]
  },
  {
   "cell_type": "code",
   "execution_count": 81,
   "id": "fe5360f7",
   "metadata": {},
   "outputs": [
    {
     "name": "stdin",
     "output_type": "stream",
     "text": [
      "enter your password pakistan\n"
     ]
    },
    {
     "data": {
      "text/plain": [
       "True"
      ]
     },
     "execution_count": 81,
     "metadata": {},
     "output_type": "execute_result"
    }
   ],
   "source": [
    "password = input('enter your password')\n",
    "password.islower()"
   ]
  },
  {
   "cell_type": "code",
   "execution_count": 82,
   "id": "a18f547f",
   "metadata": {},
   "outputs": [
    {
     "name": "stdin",
     "output_type": "stream",
     "text": [
      "enter your password Pakistan\n"
     ]
    },
    {
     "data": {
      "text/plain": [
       "False"
      ]
     },
     "execution_count": 82,
     "metadata": {},
     "output_type": "execute_result"
    }
   ],
   "source": [
    "password = input('enter your password')\n",
    "password.isspace()"
   ]
  },
  {
   "cell_type": "code",
   "execution_count": 84,
   "id": "353582fa",
   "metadata": {},
   "outputs": [
    {
     "name": "stdin",
     "output_type": "stream",
     "text": [
      "enter your password pak@123\n"
     ]
    },
    {
     "data": {
      "text/plain": [
       "False"
      ]
     },
     "execution_count": 84,
     "metadata": {},
     "output_type": "execute_result"
    }
   ],
   "source": [
    "password = input('enter your password')\n",
    "password.isalnum()"
   ]
  },
  {
   "cell_type": "markdown",
   "id": "f088ab9c-b6ce-4a7d-9434-262d4991feac",
   "metadata": {},
   "source": [
    "### Question 10"
   ]
  },
  {
   "cell_type": "code",
   "execution_count": 18,
   "id": "0d85e662-9d0c-4001-9bcf-ef8ff09a72b1",
   "metadata": {},
   "outputs": [
    {
     "data": {
      "text/plain": [
       "3"
      ]
     },
     "execution_count": 18,
     "metadata": {},
     "output_type": "execute_result"
    }
   ],
   "source": [
    "#find\n",
    "product_code = \"SKU-12345-XYZ\"\n",
    "product_code.find('-')"
   ]
  },
  {
   "cell_type": "code",
   "execution_count": 19,
   "id": "bfe92ff1-1037-45b2-9fa7-92df86f578ff",
   "metadata": {},
   "outputs": [
    {
     "data": {
      "text/plain": [
       "2"
      ]
     },
     "execution_count": 19,
     "metadata": {},
     "output_type": "execute_result"
    }
   ],
   "source": [
    "#count\n",
    "product_code.count('-')"
   ]
  },
  {
   "cell_type": "code",
   "execution_count": 21,
   "id": "81b515a3-d443-409d-8695-f4b463e69328",
   "metadata": {},
   "outputs": [],
   "source": [
    "#removeprefix\n",
    "product_code = \"SKU-12345-XYZ\"\n",
    "product_code = product_code.removeprefix(\"SKU-\")"
   ]
  },
  {
   "cell_type": "code",
   "execution_count": 13,
   "id": "6bbe8610-c89d-4cfb-a4c4-a2b8347a133e",
   "metadata": {},
   "outputs": [
    {
     "name": "stdout",
     "output_type": "stream",
     "text": [
      "12345-XYZ\n"
     ]
    }
   ],
   "source": [
    "print(product_code)"
   ]
  },
  {
   "cell_type": "code",
   "execution_count": 23,
   "id": "aba59d92-370c-4099-94ff-02e23ab3e873",
   "metadata": {},
   "outputs": [],
   "source": [
    "#removesuffix\n",
    "product_code = product_code.removesuffix(\"-XYZ\")"
   ]
  },
  {
   "cell_type": "code",
   "execution_count": 24,
   "id": "8f66a774-d36f-41f7-8ea7-fa5736a03671",
   "metadata": {},
   "outputs": [
    {
     "name": "stdout",
     "output_type": "stream",
     "text": [
      "12345\n"
     ]
    }
   ],
   "source": [
    "print(product_code)"
   ]
  },
  {
   "cell_type": "code",
   "execution_count": null,
   "id": "470bcea0-4d91-46b2-ba0e-0319734ffd51",
   "metadata": {},
   "outputs": [],
   "source": []
  }
 ],
 "metadata": {
  "kernelspec": {
   "display_name": "Python 3 (ipykernel)",
   "language": "python",
   "name": "python3"
  },
  "language_info": {
   "codemirror_mode": {
    "name": "ipython",
    "version": 3
   },
   "file_extension": ".py",
   "mimetype": "text/x-python",
   "name": "python",
   "nbconvert_exporter": "python",
   "pygments_lexer": "ipython3",
   "version": "3.12.7"
  }
 },
 "nbformat": 4,
 "nbformat_minor": 5
}
