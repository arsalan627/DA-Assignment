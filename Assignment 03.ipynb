{
 "cells": [
  {
   "cell_type": "markdown",
   "id": "5ce7bdcb-97e1-4a13-9e6b-463ce66dff14",
   "metadata": {},
   "source": [
    "### Question 01\n",
    "Age Group Classification\n",
    "\n",
    "Write a Python program that takes the age of a person as input and classifies them into one of the following age groups:\n",
    "\n",
    "\"Child\" if the age is between 0 and 12 (inclusive).\n",
    "\n",
    "\"Teenager\" if the age is between 13 and 19 (inclusive).\n",
    "\n",
    "\"Adult\" if the age is between 20 and 64 (inclusive).\n",
    "\n",
    "\"Senior\" if the age is 65 or older."
   ]
  },
  {
   "cell_type": "code",
   "execution_count": 18,
   "id": "2f7d091f-2b15-41d0-99fe-98c4b69a21ca",
   "metadata": {},
   "outputs": [
    {
     "name": "stdin",
     "output_type": "stream",
     "text": [
      "age 10\n"
     ]
    },
    {
     "name": "stdout",
     "output_type": "stream",
     "text": [
      "child\n"
     ]
    }
   ],
   "source": [
    "age = int(input('age'))\n",
    "if 0 <= age <= 12:\n",
    "    print('child')\n",
    "elif 13 <= age <= 19:\n",
    "    print('teenager')\n",
    "elif 20 <= age <= 64:\n",
    "    print('adult')\n",
    "elif age >= 65:\n",
    "    print('senior')\n",
    "else:\n",
    "    print('invalid')"
   ]
  },
  {
   "cell_type": "code",
   "execution_count": 19,
   "id": "4a6756dc-142e-4297-9278-28fc51c27d58",
   "metadata": {},
   "outputs": [
    {
     "name": "stdin",
     "output_type": "stream",
     "text": [
      "age 70\n"
     ]
    },
    {
     "name": "stdout",
     "output_type": "stream",
     "text": [
      "senior\n"
     ]
    }
   ],
   "source": [
    "age2 = int(input('age'))\n",
    "if 0 <= age2 <= 12:\n",
    "    print('child')\n",
    "elif 13 <= age2 <= 19:\n",
    "    print('teenager')\n",
    "elif 20 <= age2 <= 64:\n",
    "    print('adult')\n",
    "elif age2 >= 65:\n",
    "    print('senior')\n",
    "else:\n",
    "    print('invalid')"
   ]
  },
  {
   "cell_type": "code",
   "execution_count": 20,
   "id": "a94d0da9-f48f-49fe-a55f-60de428357a8",
   "metadata": {},
   "outputs": [
    {
     "name": "stdin",
     "output_type": "stream",
     "text": [
      "age 45\n"
     ]
    },
    {
     "name": "stdout",
     "output_type": "stream",
     "text": [
      "adult\n"
     ]
    }
   ],
   "source": [
    "age3 = int(input('age'))\n",
    "if 0 <= age3 <= 12:\n",
    "    print('child')\n",
    "elif 13 <= age3 <= 19:\n",
    "    print('teenager')\n",
    "elif 20 <= age3 <= 64:\n",
    "    print('adult')\n",
    "elif age3 >= 65:\n",
    "    print('senior')\n",
    "else:\n",
    "    print('invalid')"
   ]
  },
  {
   "cell_type": "markdown",
   "id": "2414c397-d4ce-4212-b613-0c82a943f005",
   "metadata": {},
   "source": [
    "### Question 02\n",
    "Write a Python program that asks the user to enter an email address. The program should check if the email contains the characters @ and \".\" (ignoring case). If either character is present, print \"Email format is valid.\" Otherwise, print \"Invalid email format.\""
   ]
  },
  {
   "cell_type": "code",
   "execution_count": 23,
   "id": "1cc46b24-1fcd-4541-a635-29b59db23363",
   "metadata": {},
   "outputs": [
    {
     "name": "stdin",
     "output_type": "stream",
     "text": [
      "enter email arsalanahmed627@gmail.com\n"
     ]
    },
    {
     "name": "stdout",
     "output_type": "stream",
     "text": [
      "Email format is valid\n"
     ]
    }
   ],
   "source": [
    "#email format checking\n",
    "email = str(input('enter email'))\n",
    "if '@' in email and '.' in email:\n",
    "    print('Email format is valid')\n",
    "else:\n",
    "    print('invalid format')"
   ]
  },
  {
   "cell_type": "markdown",
   "id": "f63cc101-2cc3-4bb8-a3a7-0ef6eff2d57e",
   "metadata": {},
   "source": [
    "### Question 03\n",
    "Write a Python program that takes three numbers as input and determines the largest among them. Also, check if any or all of the numbers are equal.\""
   ]
  },
  {
   "cell_type": "code",
   "execution_count": 30,
   "id": "204c96e2-80d1-4500-92b0-d8beec6e5449",
   "metadata": {},
   "outputs": [
    {
     "name": "stdin",
     "output_type": "stream",
     "text": [
      "num1 10\n",
      "num2 20\n",
      "num3 10\n"
     ]
    },
    {
     "name": "stdout",
     "output_type": "stream",
     "text": [
      "the largest number is: 20\n",
      "two number is equal\n"
     ]
    }
   ],
   "source": [
    "num1 = int(input('num1'))\n",
    "num2 = int(input('num2'))\n",
    "num3 = int(input('num3'))\n",
    "\n",
    "#check largest number\n",
    "if num1 >= num2 and num1 >= num3:\n",
    "    largest = num1\n",
    "if num2 >= num1 and num2 >= num3:\n",
    "    largest = num2\n",
    "if num3 >= num1 and num3 >= num2:\n",
    "    largest = num3\n",
    "print(f'the largest number is: {largest}')\n",
    "\n",
    "# check euality\n",
    "if num1 == num2 == num3:\n",
    "    print('all number is equal')\n",
    "elif num1 == num2 or num1 == num3 or num2 == num3:\n",
    "    print('two number is equal')\n",
    "else:\n",
    "    print('all number are different')\n",
    "    "
   ]
  },
  {
   "cell_type": "markdown",
   "id": "06a4d462-fe26-47d4-9431-b8664f9dd38c",
   "metadata": {},
   "source": [
    "### Question 04\n",
    "Write a Python program that:\n",
    "\n",
    "Asks the user to enter a number.\n",
    "\n",
    "Checks whether the number is positive.\n",
    "\n",
    "If yes, further check if it's even or odd.\n",
    "\n",
    "Print \"The number is positive and even\" if divisible by 2.\n",
    "\n",
    "Print \"The number is positive and odd\" if not divisible by 2.\n",
    "\n",
    "If the number is zero or negative, print \"The number is not positive\"."
   ]
  },
  {
   "cell_type": "code",
   "execution_count": 2,
   "id": "19a1b71c-2d5e-4dc9-a1b5-5108ff742b7a",
   "metadata": {},
   "outputs": [
    {
     "name": "stdin",
     "output_type": "stream",
     "text": [
      "enter number 2\n"
     ]
    },
    {
     "name": "stdout",
     "output_type": "stream",
     "text": [
      "given number is even\n"
     ]
    }
   ],
   "source": [
    "num = int(input('enter number'))\n",
    "\n",
    "if num > 0:\n",
    "    if num % 2 == 0:\n",
    "        print('given number is even')\n",
    "    else:\n",
    "        print('given number is odd')\n",
    "else:\n",
    "    print('number is not positive')"
   ]
  },
  {
   "cell_type": "code",
   "execution_count": 4,
   "id": "36dbbc57-77d3-403f-b1c9-2d4c87cce8b3",
   "metadata": {},
   "outputs": [
    {
     "name": "stdin",
     "output_type": "stream",
     "text": [
      "enter number -5\n"
     ]
    },
    {
     "name": "stdout",
     "output_type": "stream",
     "text": [
      "number is not positive\n"
     ]
    }
   ],
   "source": [
    "num = int(input('enter number'))\n",
    "\n",
    "if num > 0:\n",
    "    if num % 2 == 0:\n",
    "        print('given number is even')\n",
    "    else:\n",
    "        print('given number is odd')\n",
    "else:\n",
    "    print('number is not positive')"
   ]
  },
  {
   "cell_type": "code",
   "execution_count": 5,
   "id": "d7024b3f-7f5e-47f7-9734-68b3d5598a44",
   "metadata": {},
   "outputs": [
    {
     "name": "stdin",
     "output_type": "stream",
     "text": [
      "enter number 5\n"
     ]
    },
    {
     "name": "stdout",
     "output_type": "stream",
     "text": [
      "given number is odd\n"
     ]
    }
   ],
   "source": [
    "num = int(input('enter number'))\n",
    "\n",
    "if num > 0:\n",
    "    if num % 2 == 0:\n",
    "        print('given number is even')\n",
    "    else:\n",
    "        print('given number is odd')\n",
    "else:\n",
    "    print('number is not positive')"
   ]
  },
  {
   "cell_type": "markdown",
   "id": "2cd46db2-6ba7-4df7-90e4-31d4ad9f3af5",
   "metadata": {},
   "source": [
    "### Question 05\n",
    " Ask the user for a username and password. Check if the username is correct. If it is, then check if the password is correct. If both are correct, print \"Access granted\".\n",
    "\n",
    "username = \"admin\"\n",
    "\n",
    "password = \"1234\""
   ]
  },
  {
   "cell_type": "code",
   "execution_count": 8,
   "id": "77c40ace-e132-4de0-aa9c-fe8798255f9c",
   "metadata": {},
   "outputs": [
    {
     "name": "stdin",
     "output_type": "stream",
     "text": [
      "user name admin\n",
      "password 1234\n"
     ]
    },
    {
     "name": "stdout",
     "output_type": "stream",
     "text": [
      "access granted\n"
     ]
    }
   ],
   "source": [
    "correct_username = 'admin'\n",
    "correct_password = \"1234\"\n",
    "\n",
    "username = input('user name', )\n",
    "password = input('password', )\n",
    "\n",
    "if username == correct_username:\n",
    "    if password == correct_password:\n",
    "        print('access granted')\n",
    "    else:\n",
    "        print('incorrect password')\n",
    "else:\n",
    "    print('incorrect username')\n",
    "\n",
    "\n"
   ]
  },
  {
   "cell_type": "code",
   "execution_count": 9,
   "id": "e9865bf5-93c0-4438-b26a-59d00e7e17e3",
   "metadata": {},
   "outputs": [
    {
     "name": "stdin",
     "output_type": "stream",
     "text": [
      "user name admin\n",
      "password 1245\n"
     ]
    },
    {
     "name": "stdout",
     "output_type": "stream",
     "text": [
      "incorrect password\n"
     ]
    }
   ],
   "source": [
    "correct_username = 'admin'\n",
    "correct_password = \"1234\"\n",
    "\n",
    "username = input('user name', )\n",
    "password = input('password', )\n",
    "\n",
    "if username == correct_username:\n",
    "    if password == correct_password:\n",
    "        print('access granted')\n",
    "    else:\n",
    "        print('incorrect password')\n",
    "else:\n",
    "    print('incorrect username')\n"
   ]
  },
  {
   "cell_type": "code",
   "execution_count": 10,
   "id": "3ff5f748-62f9-470c-bfcb-fba3c7fc9e52",
   "metadata": {},
   "outputs": [
    {
     "name": "stdin",
     "output_type": "stream",
     "text": [
      "user name asdf\n",
      "password 1245\n"
     ]
    },
    {
     "name": "stdout",
     "output_type": "stream",
     "text": [
      "incorrect username\n"
     ]
    }
   ],
   "source": [
    "correct_username = 'admin'\n",
    "correct_password = \"1234\"\n",
    "\n",
    "username = input('user name', )\n",
    "password = input('password', )\n",
    "\n",
    "if username == correct_username:\n",
    "    if password == correct_password:\n",
    "        print('access granted')\n",
    "    else:\n",
    "        print('incorrect password')\n",
    "else:\n",
    "    print('incorrect username')\n"
   ]
  },
  {
   "cell_type": "markdown",
   "id": "8b27e9b8-e1f8-499a-b5e7-5f589a9aaf7c",
   "metadata": {},
   "source": [
    "### Question 06\n",
    "Take an integer input from the user and check whether the entered value exists in the tuple my_tuple = (5, 10, 15, 20, 25). Print an appropriate message based on the result."
   ]
  },
  {
   "cell_type": "code",
   "execution_count": 11,
   "id": "419bcd56-a32d-4f70-a66a-6af920335e91",
   "metadata": {},
   "outputs": [
    {
     "name": "stdin",
     "output_type": "stream",
     "text": [
      " 10\n"
     ]
    },
    {
     "data": {
      "text/plain": [
       "1"
      ]
     },
     "execution_count": 11,
     "metadata": {},
     "output_type": "execute_result"
    }
   ],
   "source": [
    "my_tuple = (5, 10, 15, 20, 25)\n",
    "\n",
    "num1 = int(input())\n",
    "\n",
    "my_tuple.count(num1)"
   ]
  },
  {
   "cell_type": "code",
   "execution_count": 15,
   "id": "539896a9-7dc4-4e69-ac17-5638f77c6e9a",
   "metadata": {},
   "outputs": [
    {
     "name": "stdin",
     "output_type": "stream",
     "text": [
      "user input 5\n"
     ]
    },
    {
     "name": "stdout",
     "output_type": "stream",
     "text": [
      "5 value exists in my_tuple\n"
     ]
    }
   ],
   "source": [
    "my_tuple = (5, 10, 15, 20, 25)\n",
    "\n",
    "num2 = int(input('user input', ))\n",
    "\n",
    "if num2 in my_tuple:\n",
    "    print(num2, 'value exists in my_tuple')\n",
    "else:\n",
    "    print(\"value doesn't exists in my_tuple\")"
   ]
  },
  {
   "cell_type": "code",
   "execution_count": 16,
   "id": "03dc4857-243c-4cc1-8289-9a3b0892b890",
   "metadata": {},
   "outputs": [
    {
     "name": "stdin",
     "output_type": "stream",
     "text": [
      "user input 6\n"
     ]
    },
    {
     "name": "stdout",
     "output_type": "stream",
     "text": [
      "value doesn't exists in my_tuple\n"
     ]
    }
   ],
   "source": [
    "my_tuple = (5, 10, 15, 20, 25)\n",
    "\n",
    "num2 = int(input('user input', ))\n",
    "\n",
    "if num2 in my_tuple:\n",
    "    print(num2, 'value exists in my_tuple')\n",
    "else:\n",
    "    print(\"value doesn't exists in my_tuple\")"
   ]
  },
  {
   "cell_type": "markdown",
   "id": "d320f840-5496-43b5-960b-cd57656bb2be",
   "metadata": {},
   "source": [
    "### Question 07\n",
    "Create a program that takes the user's first name, last name, and age as input, packs them into a tuple, and prints the tuple."
   ]
  },
  {
   "cell_type": "code",
   "execution_count": 19,
   "id": "368d3fea-596e-4520-a95b-eea102b83080",
   "metadata": {},
   "outputs": [
    {
     "name": "stdin",
     "output_type": "stream",
     "text": [
      "first name arsalan\n",
      "last name ahmed\n",
      "age 30\n",
      "city karachi\n"
     ]
    },
    {
     "name": "stdout",
     "output_type": "stream",
     "text": [
      "('arsalan', 'ahmed', 30, 'karachi')\n"
     ]
    }
   ],
   "source": [
    "first_name = str(input('first name'))\n",
    "last_name = str(input('last name'))\n",
    "age = int(input('age'))\n",
    "city = str(input('city'))\n",
    "\n",
    "user_info = (first_name , last_name , age , city)\n",
    "print(user_info)"
   ]
  },
  {
   "cell_type": "markdown",
   "id": "9eaf0919-c7a8-4046-9005-ee32ae88fc34",
   "metadata": {},
   "source": [
    "### Question 08\n",
    "Given the tuple coordinates = (4, 5, 6), unpack the elements of the tuple into three variables x, y, and z. Then, calculate and print the sum of the variables."
   ]
  },
  {
   "cell_type": "code",
   "execution_count": 20,
   "id": "e571536f-25d1-4841-973e-2caf4022b4fc",
   "metadata": {},
   "outputs": [
    {
     "name": "stdout",
     "output_type": "stream",
     "text": [
      "15\n"
     ]
    }
   ],
   "source": [
    "coordinates = (4, 5, 6)\n",
    "\n",
    "x , y , z = coordinates\n",
    "\n",
    "sum_variable = x + y + z\n",
    "print(sum_variable)"
   ]
  },
  {
   "cell_type": "markdown",
   "id": "e4609ece-34bc-4c56-bea1-96e37855f341",
   "metadata": {},
   "source": [
    "### Question 09\n",
    "Given the tuple my_tuple = (1, 2, 3, 4, 5), remove the element 3 from the tuple by first converting it to a list, and then print the resulting tuple."
   ]
  },
  {
   "cell_type": "code",
   "execution_count": 22,
   "id": "21ea9b8f-85f6-448e-8de9-151ef36466b5",
   "metadata": {},
   "outputs": [
    {
     "name": "stdout",
     "output_type": "stream",
     "text": [
      "[1, 2, 3, 4, 5]\n"
     ]
    }
   ],
   "source": [
    "my_tuple = (1, 2, 3, 4, 5)\n",
    "\n",
    "temp_list = list(my_tuple)\n",
    "print(temp_list)"
   ]
  },
  {
   "cell_type": "code",
   "execution_count": 23,
   "id": "4cc5a62c-5310-4983-a745-ef4cffa344e4",
   "metadata": {},
   "outputs": [
    {
     "name": "stdout",
     "output_type": "stream",
     "text": [
      "(1, 2, 4, 5)\n"
     ]
    }
   ],
   "source": [
    "temp_list.remove(3)\n",
    "my_tuple = tuple(temp_list)\n",
    "print(my_tuple)"
   ]
  },
  {
   "cell_type": "markdown",
   "id": "a27ecdb6-7651-4b6e-8455-bb15ed14207d",
   "metadata": {},
   "source": [
    "### Question 10\n",
    "Given the tuple numbers = (10, 20, 5, 30, 15), find and print the maximum and minimum values in the tuple."
   ]
  },
  {
   "cell_type": "code",
   "execution_count": 33,
   "id": "1d7d7a32-9b18-4aa5-968f-6a4cc45571de",
   "metadata": {},
   "outputs": [
    {
     "name": "stdout",
     "output_type": "stream",
     "text": [
      "30 is max number\n",
      "5 is min number\n"
     ]
    }
   ],
   "source": [
    "numbers = (10, 20, 5, 30, 15)\n",
    "print(max(numbers), 'is max number')\n",
    "print(min(numbers), 'is min number')"
   ]
  },
  {
   "cell_type": "code",
   "execution_count": null,
   "id": "92cec153-2139-456d-8c6d-f29f2dbfa138",
   "metadata": {},
   "outputs": [],
   "source": []
  }
 ],
 "metadata": {
  "kernelspec": {
   "display_name": "Python 3 (ipykernel)",
   "language": "python",
   "name": "python3"
  },
  "language_info": {
   "codemirror_mode": {
    "name": "ipython",
    "version": 3
   },
   "file_extension": ".py",
   "mimetype": "text/x-python",
   "name": "python",
   "nbconvert_exporter": "python",
   "pygments_lexer": "ipython3",
   "version": "3.12.7"
  }
 },
 "nbformat": 4,
 "nbformat_minor": 5
}
