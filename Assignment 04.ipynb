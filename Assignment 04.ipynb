{
 "cells": [
  {
   "cell_type": "markdown",
   "id": "c316997e-59dc-4454-bd6f-b749926f691a",
   "metadata": {},
   "source": [
    "### Question 1\n",
    "An e-commerce store stores information about its products in a nested dictionary. The outer dictionary uses product IDs as keys, and the inner dictionary stores product details like name, category, price, and stock quantity. products = { 101: {\"name\": \"Laptop\", \"category\": \"Electronics\", \"price\": 1200, \"stock\": 50}, 102: {\"name\": \"Shirt\", \"category\": \"Apparel\", \"price\": 25, \"stock\": 200}, 103: {\"name\": \"Coffee Maker\", \"category\": \"Home Appliances\", \"price\": 80, \"stock\": 30} }\n",
    "\n",
    "• Increase the stock of the \"Shirt\" product (add 50 more units)\n",
    "\n",
    "• Add a new product (e.g., \"Smartphone\")"
   ]
  },
  {
   "cell_type": "code",
   "execution_count": 9,
   "id": "70ece7d5-d94e-4b1f-992b-f8241e258ac2",
   "metadata": {},
   "outputs": [
    {
     "name": "stdout",
     "output_type": "stream",
     "text": [
      "{101: {'name': 'laptop', 'category': 'electronics', 'price': 1200, 'stock': 50}, 102: {'name': 'shirts', 'category': 'apparel', 'price': 25, 'stock': 250}, 103: {'name': 'cofee maker', 'category': 'home appliance', 'price': 80, 'stock': 30}, 104: {'name': 'smartphone', 'category': 'mobile', 'price': 150, 'stock': 20}}\n"
     ]
    }
   ],
   "source": [
    "products = {\n",
    "    101 : {'name' : 'laptop', 'category' : 'electronics', 'price' : 1200, 'stock' : 50},\n",
    "    102 : {'name' : 'shirts', 'category' : 'apparel', 'price' : 25, 'stock' : 200},\n",
    "    103 : {'name' : 'cofee maker', 'category' : 'home appliance', 'price' : 80, 'stock' : 30}\n",
    "}\n",
    "#increase shirts stock\n",
    "products[102]['stock'] += 50\n",
    "\n",
    "#add product\n",
    "products.update({\n",
    "    104 : {'name' : 'smartphone', 'category' : 'mobile', 'price' : 150, 'stock' : 20}\n",
    "})\n",
    "print(products)"
   ]
  },
  {
   "cell_type": "markdown",
   "id": "53499280-21db-4f2f-abaa-c3e70650794d",
   "metadata": {},
   "source": [
    "### Question 2\n",
    "You are given a list that contains some duplicate items. Remove the duplicates\n",
    "\n",
    "shopping_list = [\"apple\", \"banana\", \"apple\", \"orange\", \"banana\", \"grape\"]"
   ]
  },
  {
   "cell_type": "code",
   "execution_count": 14,
   "id": "4195bf02-e4a8-4315-93bd-5c1f442d9e46",
   "metadata": {},
   "outputs": [
    {
     "data": {
      "text/plain": [
       "['apple', 'banana', 'orange', 'grape']"
      ]
     },
     "execution_count": 14,
     "metadata": {},
     "output_type": "execute_result"
    }
   ],
   "source": [
    "#using dictonery method, list order as per define\n",
    "\n",
    "shopping_list = [\"apple\", \"banana\", \"apple\", \"orange\", \"banana\", \"grape\"]\n",
    "list(dict.fromkeys(shopping_list))"
   ]
  },
  {
   "cell_type": "code",
   "execution_count": 15,
   "id": "d2ec583c-9d4f-4a4c-9bf0-7a30aa482c59",
   "metadata": {},
   "outputs": [
    {
     "data": {
      "text/plain": [
       "['apple', 'orange', 'grape', 'banana']"
      ]
     },
     "execution_count": 15,
     "metadata": {},
     "output_type": "execute_result"
    }
   ],
   "source": [
    "#using set method, list not ordered as per define\n",
    "\n",
    "shopping_list = [\"apple\", \"banana\", \"apple\", \"orange\", \"banana\", \"grape\"]\n",
    "list(set(shopping_list))"
   ]
  },
  {
   "cell_type": "markdown",
   "id": "eeffafbc-2de7-4aff-8e7e-aa9f02a4257d",
   "metadata": {},
   "source": [
    "### Question 3\n",
    "You are managing a list of students enrolled in two different courses. You need to perform various set operations to understand the student enrollment. Task: Create two sets: one for students in \"Course A\" and one for students in \"Course B\". Find the students who are in \"Course A\" but not in \"Course B\" (difference). Find students who are only in one of the two courses (symmetric difference).\n",
    "\n",
    "course_a = {\"John\", \"Alice\", \"Bob\", \"David\"}\n",
    "\n",
    "course_b = {\"Alice\", \"Eve\", \"Charlie\", \"David\"}\n",
    "\n",
    "• Find students who are in Course A but not in Course B (difference)\n",
    "\n",
    "• Find students who are only in one of the two courses (symmetric difference)"
   ]
  },
  {
   "cell_type": "code",
   "execution_count": 21,
   "id": "8a5db41b-e144-4d9e-b319-4812f6fde66c",
   "metadata": {},
   "outputs": [
    {
     "data": {
      "text/plain": [
       "{'Bob', 'John'}"
      ]
     },
     "execution_count": 21,
     "metadata": {},
     "output_type": "execute_result"
    }
   ],
   "source": [
    "course_a = {\"John\", \"Alice\", \"Bob\", \"David\"}\n",
    "course_b = {\"Alice\", \"Eve\", \"Charlie\", \"David\"}\n",
    "\n",
    "#students in Course A but not in Course B\n",
    "\n",
    "course_a.difference(course_b)"
   ]
  },
  {
   "cell_type": "code",
   "execution_count": 22,
   "id": "b80ed126-4788-4293-baee-9faa4fa2557c",
   "metadata": {},
   "outputs": [
    {
     "data": {
      "text/plain": [
       "{'Bob', 'Charlie', 'Eve', 'John'}"
      ]
     },
     "execution_count": 22,
     "metadata": {},
     "output_type": "execute_result"
    }
   ],
   "source": [
    "#students only in one of the two courses\n",
    "\n",
    "course_a.symmetric_difference(course_b)"
   ]
  },
  {
   "cell_type": "markdown",
   "id": "dd777f07-09e8-4640-bd88-99e786519e29",
   "metadata": {},
   "source": [
    "### Question 4\n",
    "Write a Python program that calculates the sum of all even numbers between 1 and 50 (inclusive) using a for loop.\n",
    "\n",
    "Hint\n",
    "\n",
    "Initialize a variable to hold the sum (e.g., sum_of_evens).\n",
    "Use a for loop to iterate through all numbers from 1 to 50.\n",
    "Inside the loop, check if the number is even.\n",
    "If the number is even, add it to sum_of_evens.\n",
    "After the loop finishes, print the total sum of all even numbers between 1 and 50."
   ]
  },
  {
   "cell_type": "code",
   "execution_count": 29,
   "id": "cadc8887-1b3f-4412-9ace-4eddd79d9b68",
   "metadata": {},
   "outputs": [
    {
     "name": "stdout",
     "output_type": "stream",
     "text": [
      "650\n"
     ]
    }
   ],
   "source": [
    "sum_of_even = 0\n",
    "\n",
    "for number in range(1, 51):\n",
    "    if number % 2 ==  0:\n",
    "        sum_of_even += number\n",
    "\n",
    "print(sum_of_even)"
   ]
  },
  {
   "cell_type": "markdown",
   "id": "e24c8506-3a64-4d24-b231-06eeb739a5f0",
   "metadata": {},
   "source": [
    "### Question 5\n",
    "Power of a Number Write a Python program that takes a number and prints the powers of the number (starting from 1 to 10) using a while loop. For example, if the user inputs 3, the output should be:\n",
    "\n",
    "3^1 = 3\n",
    "\n",
    "3^2 = 9\n",
    "\n",
    "3^3 = 27\n",
    "\n",
    "... up to 3^10."
   ]
  },
  {
   "cell_type": "code",
   "execution_count": 11,
   "id": "24b62c30-90e7-4b24-806c-d786a9178e62",
   "metadata": {},
   "outputs": [
    {
     "name": "stdin",
     "output_type": "stream",
     "text": [
      "enter number 2\n"
     ]
    },
    {
     "name": "stdout",
     "output_type": "stream",
     "text": [
      "2 ^ 1 = 2\n",
      "2 ^ 2 = 4\n",
      "2 ^ 3 = 8\n",
      "2 ^ 4 = 16\n",
      "2 ^ 5 = 32\n",
      "2 ^ 6 = 64\n",
      "2 ^ 7 = 128\n",
      "2 ^ 8 = 256\n",
      "2 ^ 9 = 512\n",
      "2 ^ 10 = 1024\n"
     ]
    }
   ],
   "source": [
    "number = int(input('enter number'))\n",
    "\n",
    "power = 1\n",
    "\n",
    "while power <= 10:\n",
    "    result = number ** power\n",
    "    print(number,\"^\",power,'=',result)\n",
    "    power += 1"
   ]
  },
  {
   "cell_type": "markdown",
   "id": "ea8a7ab8-663b-42e2-a961-5dcb9d5d578f",
   "metadata": {},
   "source": [
    "### Question 6\n",
    "Q6.\n",
    "\n",
    "Problem Statement: Write a Python program that takes an integer input from the user and counts down from that number to 0. The program should display the current number at each step until it reaches 0, at which point it should print a message indicating the countdown is finished"
   ]
  },
  {
   "cell_type": "code",
   "execution_count": 13,
   "id": "58aab712-ff4a-49fa-b169-0cbcc8a89ab4",
   "metadata": {},
   "outputs": [
    {
     "name": "stdin",
     "output_type": "stream",
     "text": [
      "Enter number 10\n"
     ]
    },
    {
     "name": "stdout",
     "output_type": "stream",
     "text": [
      "10\n",
      "9\n",
      "8\n",
      "7\n",
      "6\n",
      "5\n",
      "4\n",
      "3\n",
      "2\n",
      "1\n",
      "0\n",
      "countdown finished\n"
     ]
    }
   ],
   "source": [
    "number = int(input(\"Enter number\"))\n",
    "\n",
    "while number >= 0:\n",
    "    print(number)\n",
    "    number -= 1\n",
    "\n",
    "print('countdown finished')"
   ]
  },
  {
   "cell_type": "markdown",
   "id": "98495a71-e22f-44dc-b278-986c2f154f33",
   "metadata": {},
   "source": [
    "### Question 7\n",
    "Write a Python program that takes a number as input from the user and calculates its factorial using a for loop. The program should display the result to the user."
   ]
  },
  {
   "cell_type": "code",
   "execution_count": 20,
   "id": "99b59447-ea0d-467f-927c-b9b342f6d09c",
   "metadata": {},
   "outputs": [
    {
     "name": "stdin",
     "output_type": "stream",
     "text": [
      "enter number 4\n"
     ]
    },
    {
     "name": "stdout",
     "output_type": "stream",
     "text": [
      "the factorial of 4 is 24\n"
     ]
    }
   ],
   "source": [
    "number = int(input('enter number'))\n",
    "factorial = 1\n",
    "       \n",
    "for i in range(1, number + 1):\n",
    "    factorial *= i\n",
    "print('the factorial of', number, 'is', factorial)\n",
    "            "
   ]
  },
  {
   "cell_type": "markdown",
   "id": "38df8c8a-056a-4ea0-a238-35be1b8ff516",
   "metadata": {},
   "source": [
    "### Question 8\n",
    "Create an empty dictionary called person_info.\n",
    "\n",
    "Assign the following key-value pairs to the dictionary:\n",
    "\n",
    "\"name\": \"Alice\"\n",
    "\n",
    "\"age\": 25\n",
    "\n",
    "\"occupation\": \"Engineer\"\n",
    "\n",
    "After assigning the values, print the dictionary."
   ]
  },
  {
   "cell_type": "code",
   "execution_count": 27,
   "id": "6021093c-71dc-4c40-880b-088c8e6c8d4d",
   "metadata": {},
   "outputs": [
    {
     "name": "stdout",
     "output_type": "stream",
     "text": [
      "{1122: {'name': 'Alice', 'age': 25, 'occupation': 'engineer'}}\n"
     ]
    }
   ],
   "source": [
    "person_info = {}\n",
    "\n",
    "person_info.update({\n",
    "    1122 : {'name' : 'Alice', 'age' : 25, 'occupation' : 'engineer'}\n",
    "})\n",
    "\n",
    "print(person_info)"
   ]
  },
  {
   "cell_type": "markdown",
   "id": "b051b12e-decf-4e0e-a8dc-de552b524f9a",
   "metadata": {},
   "source": [
    "### Question 9\n",
    "Printing a right-angled triangle pattern (with NESTED while loop)"
   ]
  },
  {
   "cell_type": "code",
   "execution_count": 33,
   "id": "bba0d36f-ff84-4fae-b590-d9f628cc4155",
   "metadata": {},
   "outputs": [
    {
     "name": "stdout",
     "output_type": "stream",
     "text": [
      "* \n",
      "* * \n",
      "* * * \n",
      "* * * * \n",
      "* * * * * \n"
     ]
    }
   ],
   "source": [
    "i = 1\n",
    "while i <= 5:\n",
    "    j = 1\n",
    "    while j <= i:\n",
    "        print('*',end=\" \")\n",
    "        j += 1\n",
    "    print()\n",
    "    i += 1"
   ]
  },
  {
   "cell_type": "markdown",
   "id": "9098d638-2706-44a0-8390-19eaa0836b91",
   "metadata": {},
   "source": [
    "### Question 10\n",
    "\n",
    "Write a Python program that does the following:\n",
    "\n",
    "Range: Loop through numbers from 1 to 20 (inclusive).\n",
    "\n",
    "Continue: If the number is divisible by 4, skip that iteration and move to the next number.\n",
    "\n",
    "Break: If the number is divisible by 7, stop the loop entirely.\n",
    "\n",
    "For all other numbers, print the number."
   ]
  },
  {
   "cell_type": "code",
   "execution_count": 34,
   "id": "5bef2988-241f-453c-856c-8b3d95387b63",
   "metadata": {},
   "outputs": [
    {
     "name": "stdout",
     "output_type": "stream",
     "text": [
      "1\n",
      "2\n",
      "3\n",
      "5\n",
      "6\n"
     ]
    }
   ],
   "source": [
    "\n",
    "for number in range(1, 21):\n",
    "    if number % 4 == 0:\n",
    "        continue  \n",
    "    if number % 7 == 0:\n",
    "        break    \n",
    "    print(number)"
   ]
  },
  {
   "cell_type": "code",
   "execution_count": null,
   "id": "546da4ce-ce36-4d1b-a7a2-9a950ca3aa74",
   "metadata": {},
   "outputs": [],
   "source": []
  }
 ],
 "metadata": {
  "kernelspec": {
   "display_name": "Python 3 (ipykernel)",
   "language": "python",
   "name": "python3"
  },
  "language_info": {
   "codemirror_mode": {
    "name": "ipython",
    "version": 3
   },
   "file_extension": ".py",
   "mimetype": "text/x-python",
   "name": "python",
   "nbconvert_exporter": "python",
   "pygments_lexer": "ipython3",
   "version": "3.12.7"
  }
 },
 "nbformat": 4,
 "nbformat_minor": 5
}
