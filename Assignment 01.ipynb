{
 "cells": [
  {
   "cell_type": "code",
   "execution_count": 1,
   "id": "a2da84d2-6a66-4ed3-b5e4-be790bdca937",
   "metadata": {},
   "outputs": [],
   "source": [
    "#Q1\n",
    "\n",
    "a=15\n",
    "b=4"
   ]
  },
  {
   "cell_type": "code",
   "execution_count": 2,
   "id": "28a10e14-0846-4b9e-a210-a970102a0ebe",
   "metadata": {},
   "outputs": [
    {
     "name": "stdout",
     "output_type": "stream",
     "text": [
      "19\n",
      "11\n",
      "3.75\n",
      "3\n",
      "3\n",
      "60\n"
     ]
    }
   ],
   "source": [
    "print(a+b)\n",
    "print(a-b)\n",
    "print(a/b)\n",
    "print(a//b)\n",
    "print(a%b)\n",
    "print(a*b)"
   ]
  },
  {
   "cell_type": "code",
   "execution_count": 3,
   "id": "cdd5f527-b1d6-42c9-9623-8ef716aaa2af",
   "metadata": {},
   "outputs": [],
   "source": [
    "#Q2\n",
    "\n",
    "num1=10\n",
    "num2=5.6\n",
    "num3=4.43\n"
   ]
  },
  {
   "cell_type": "code",
   "execution_count": 4,
   "id": "fad5a4a6-3ed9-4bda-8a6b-52e0f205ad53",
   "metadata": {},
   "outputs": [
    {
     "data": {
      "text/plain": [
       "10.0"
      ]
     },
     "execution_count": 4,
     "metadata": {},
     "output_type": "execute_result"
    }
   ],
   "source": [
    "float(num1)"
   ]
  },
  {
   "cell_type": "code",
   "execution_count": 5,
   "id": "b9603ab0-da77-4d35-8453-495c68c6a92a",
   "metadata": {},
   "outputs": [
    {
     "data": {
      "text/plain": [
       "4"
      ]
     },
     "execution_count": 5,
     "metadata": {},
     "output_type": "execute_result"
    }
   ],
   "source": [
    "int(num3)"
   ]
  },
  {
   "cell_type": "code",
   "execution_count": 6,
   "id": "cd09de99-c53d-41df-9215-fc6fe0d14fa6",
   "metadata": {},
   "outputs": [
    {
     "data": {
      "text/plain": [
       "'10'"
      ]
     },
     "execution_count": 6,
     "metadata": {},
     "output_type": "execute_result"
    }
   ],
   "source": [
    "str(num1)"
   ]
  },
  {
   "cell_type": "code",
   "execution_count": 7,
   "id": "1546a656-d308-4cec-bb81-10d0f0fe14d7",
   "metadata": {},
   "outputs": [],
   "source": [
    "##Q3\n",
    "\n",
    "fruits = [\"apple\", \"banana\", \"cherry\", \"coconut\", \"pineapple\", \"mango\", \"orange\"]"
   ]
  },
  {
   "cell_type": "code",
   "execution_count": 8,
   "id": "0bae9b9b-f81f-4753-aee3-1a44a8936ff1",
   "metadata": {},
   "outputs": [
    {
     "data": {
      "text/plain": [
       "'apple'"
      ]
     },
     "execution_count": 8,
     "metadata": {},
     "output_type": "execute_result"
    }
   ],
   "source": [
    "fruits[0]"
   ]
  },
  {
   "cell_type": "code",
   "execution_count": 9,
   "id": "60424653-be0b-42d2-a128-e4c3a8dcad82",
   "metadata": {},
   "outputs": [
    {
     "data": {
      "text/plain": [
       "'orange'"
      ]
     },
     "execution_count": 9,
     "metadata": {},
     "output_type": "execute_result"
    }
   ],
   "source": [
    "fruits[-1]"
   ]
  },
  {
   "cell_type": "code",
   "execution_count": 10,
   "id": "0c5a593b-6b55-403c-8eeb-c6f07326a57a",
   "metadata": {},
   "outputs": [
    {
     "data": {
      "text/plain": [
       "'coconut'"
      ]
     },
     "execution_count": 10,
     "metadata": {},
     "output_type": "execute_result"
    }
   ],
   "source": [
    "fruits[3]"
   ]
  },
  {
   "cell_type": "code",
   "execution_count": 11,
   "id": "730f8d68-2fc1-4956-b172-34eb6104cd4e",
   "metadata": {},
   "outputs": [],
   "source": [
    "#Q4\n",
    "\n",
    "numbers = [10, 20, 30, 40, 50]"
   ]
  },
  {
   "cell_type": "code",
   "execution_count": 12,
   "id": "7ceb04bb-e37f-47fb-b97b-e06fcc49e620",
   "metadata": {},
   "outputs": [
    {
     "data": {
      "text/plain": [
       "[10, 20, 30]"
      ]
     },
     "execution_count": 12,
     "metadata": {},
     "output_type": "execute_result"
    }
   ],
   "source": [
    "numbers[:3]"
   ]
  },
  {
   "cell_type": "code",
   "execution_count": 13,
   "id": "08d41aaa-f1fc-4354-8082-2dbddc45c83c",
   "metadata": {},
   "outputs": [
    {
     "data": {
      "text/plain": [
       "[40, 50]"
      ]
     },
     "execution_count": 13,
     "metadata": {},
     "output_type": "execute_result"
    }
   ],
   "source": [
    "numbers[-2:]"
   ]
  },
  {
   "cell_type": "code",
   "execution_count": 14,
   "id": "fa7ef315-9219-485d-b88c-b049b2f0a912",
   "metadata": {},
   "outputs": [
    {
     "name": "stdout",
     "output_type": "stream",
     "text": [
      "[20, 30, 40, 50]\n"
     ]
    }
   ],
   "source": [
    "print(numbers[1:])"
   ]
  },
  {
   "cell_type": "code",
   "execution_count": 15,
   "id": "3a4bc39a-04b0-463c-b0ba-e84c1e8ec335",
   "metadata": {},
   "outputs": [
    {
     "name": "stdout",
     "output_type": "stream",
     "text": [
      "[10, 20, 30, 40]\n"
     ]
    }
   ],
   "source": [
    "print(numbers[:4])"
   ]
  },
  {
   "cell_type": "code",
   "execution_count": 16,
   "id": "4b002009-6fcd-403c-a326-c93c84596012",
   "metadata": {},
   "outputs": [
    {
     "name": "stdout",
     "output_type": "stream",
     "text": [
      "[]\n"
     ]
    }
   ],
   "source": [
    "print(numbers[-1:-6])"
   ]
  },
  {
   "cell_type": "code",
   "execution_count": 17,
   "id": "41c165d1-c570-4ad4-8590-54d17795d8db",
   "metadata": {},
   "outputs": [
    {
     "name": "stdout",
     "output_type": "stream",
     "text": [
      "[10, 30, 50]\n"
     ]
    }
   ],
   "source": [
    "print(numbers[0::2])"
   ]
  },
  {
   "cell_type": "code",
   "execution_count": 18,
   "id": "2d6b9153-ff66-4214-bad3-92362bc21e71",
   "metadata": {},
   "outputs": [],
   "source": [
    "#Q5\n",
    "number=[1,2,3]"
   ]
  },
  {
   "cell_type": "code",
   "execution_count": 19,
   "id": "4beb452d-4207-411f-aff4-3d27b76bb5d5",
   "metadata": {},
   "outputs": [],
   "source": [
    "number.append(10)"
   ]
  },
  {
   "cell_type": "code",
   "execution_count": 20,
   "id": "2ec78bbc-874c-41c0-9097-c9b2db837f94",
   "metadata": {},
   "outputs": [
    {
     "name": "stdout",
     "output_type": "stream",
     "text": [
      "[1, 2, 3, 10]\n"
     ]
    }
   ],
   "source": [
    "print(number)"
   ]
  },
  {
   "cell_type": "code",
   "execution_count": 21,
   "id": "b6531046-dc45-4ad8-9f0d-fbfbd9782c8c",
   "metadata": {},
   "outputs": [
    {
     "name": "stdout",
     "output_type": "stream",
     "text": [
      "[99, 1, 2, 3, 10]\n"
     ]
    }
   ],
   "source": [
    "#Q6\n",
    "\n",
    "number.insert(0,99)\n",
    "print(number)"
   ]
  },
  {
   "cell_type": "code",
   "execution_count": 22,
   "id": "e9f42e3c-9d50-415b-ac9a-e5ef61c1f2c7",
   "metadata": {},
   "outputs": [],
   "source": [
    "#Q7\n",
    "numbers2 = [4,5]"
   ]
  },
  {
   "cell_type": "code",
   "execution_count": 23,
   "id": "e216cd06-8daa-4990-b3ef-72837403d8a5",
   "metadata": {},
   "outputs": [
    {
     "name": "stdout",
     "output_type": "stream",
     "text": [
      "[99, 1, 2, 3, 10, 4, 5]\n"
     ]
    }
   ],
   "source": [
    "number.extend(numbers2)\n",
    "print(number)\n"
   ]
  },
  {
   "cell_type": "code",
   "execution_count": 24,
   "id": "a2f9128a-8700-494f-aab4-5b8e552309bf",
   "metadata": {},
   "outputs": [
    {
     "name": "stdout",
     "output_type": "stream",
     "text": [
      "[1, 2, 3, 4]\n"
     ]
    }
   ],
   "source": [
    "#Q8\n",
    "number = [4,3,2,1]\n",
    "number.sort()\n",
    "print(number)"
   ]
  },
  {
   "cell_type": "code",
   "execution_count": 25,
   "id": "52a74445-2663-445e-a4b3-a34fef9f92d8",
   "metadata": {},
   "outputs": [
    {
     "name": "stdout",
     "output_type": "stream",
     "text": [
      "['fries', 'coke', 'icecream']\n"
     ]
    }
   ],
   "source": [
    "#Q9\n",
    "order = [\"burger\", \"fries\", \"coke\"]\n",
    "order.append('icecream')\n",
    "order.remove(\"burger\")\n",
    "print(order)"
   ]
  },
  {
   "cell_type": "code",
   "execution_count": 26,
   "id": "134d5d5f-d659-474d-a927-dc4ea517791d",
   "metadata": {},
   "outputs": [
    {
     "name": "stdout",
     "output_type": "stream",
     "text": [
      "['Ahmed', 'Sara', 'Ali']\n"
     ]
    }
   ],
   "source": [
    "#Q10\n",
    "passengers = [\"Ali\", \"Zara\", \"Ahmed\"]\n",
    "passengers.insert(1,\"Sara\")\n",
    "passengers.remove(\"Zara\")\n",
    "passengers.reverse()\n",
    "print(passengers)"
   ]
  },
  {
   "cell_type": "code",
   "execution_count": null,
   "id": "06eae48f-bfae-4241-b4d9-d13550b9275a",
   "metadata": {},
   "outputs": [],
   "source": []
  }
 ],
 "metadata": {
  "kernelspec": {
   "display_name": "Python 3 (ipykernel)",
   "language": "python",
   "name": "python3"
  },
  "language_info": {
   "codemirror_mode": {
    "name": "ipython",
    "version": 3
   },
   "file_extension": ".py",
   "mimetype": "text/x-python",
   "name": "python",
   "nbconvert_exporter": "python",
   "pygments_lexer": "ipython3",
   "version": "3.12.7"
  }
 },
 "nbformat": 4,
 "nbformat_minor": 5
}
